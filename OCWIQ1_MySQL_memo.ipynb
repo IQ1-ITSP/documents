{
 "cells": [
  {
   "cell_type": "markdown",
   "metadata": {},
   "source": [
    "# MySQLこと始めメモ\n",
    "\n",
    "### ターミナル\n",
    "```sh\n",
    "mysql.server start```\n",
    "    サーバー起動　これで各種機構からログインが可能になる\n",
    "```sh\n",
    "mysql.server stop``` \n",
    "    サーバー停止　終わるときはこうしよう\n",
    "```sh\n",
    "mysql -u root``` \n",
    "    rootユーザーとしてターミナル上でmysqlにログイン\n",
    "    \n",
    "## mysql>\n",
    "```mysql\n",
    "show databases;```\n",
    "    すべてのデータベースを閲覧(git branchのノリ)\n",
    "```mysql\n",
    "create database A;```\n",
    "    Aのデータベースを作成(git branch Aのノリ)\n",
    "```mysql\n",
    "use A;```\n",
    "    Aのデータベースに移動(git checkout Aのノリ)\n",
    "    \n",
    "(mysqlでは;が行末なので，忘れずにつけること)\n",
    "\n",
    "### PyMySQL\n",
    "```Python \n",
    "connection = pymysql.connect(OPTION)```\n",
    "    はじめに書こう　OPTIONの情報を用いてデータベースに接続  \n",
    "\n",
    ">### OPTION\n",
    "- #### host='localhost’,  \n",
    "接続先を指定するんだと思う　どこにあるmysqlですか？的なやつかな  \n",
    "- #### user='root’,  \n",
    "mysqlにログインする時のユーザー名  \n",
    "- #### password=‘’,  \n",
    "mysqlにログインする時のパスワード  \n",
    "- #### db='test_ocw’,  \n",
    "使うデータベース  \n",
    "- #### charset='utf8’,  \n",
    "普通に文字コードだと思う  \n",
    "- #### cursorclass=pymysql.cursors.DictCursor  \n",
    "DictCursorで「Selectの結果をdictionary形式で受け取る」らしい  \n",
    "\n",
    "```Python \n",
    "with connection.cursor() as cursor:```\n",
    "    cursorの立ち上げ(withでやった方がclose処理を書かずに済み，楽)\n",
    "```Python \n",
    "cursor.execute(\"SQL文\")```\n",
    "    SQL文の実行\n",
    "```Python \n",
    "connection.commit()```\n",
    "    変更の保存，スクレイピングして格納した後とかに使おう\n",
    "```Python \n",
    "cursor.fetchall()```\n",
    "    (直前にcursor.executeでSELECT文を送ってる必要あり)SELECTで入手した結果をすべて取得　他には呼ぶ度1つずつ取ってくるfetchoneなどが存在\n",
    "\n",
    "```Python\n",
    "cursor.execute(\"show columns from lecture\")\n",
    "for rows in cursor.fetchall(): print(rows[\"Field\"])\n",
    "```\n",
    "    全キー取得　主にめんどい人用\n",
    "\n",
    "(DictCursorにするとSELECT→fetch時にkeyが属性名の辞書が帰ってくるので，Django的にはこれが楽な気がする)"
   ]
  },
  {
   "cell_type": "code",
   "execution_count": 1,
   "metadata": {},
   "outputs": [],
   "source": [
    "#データベースに接続\n",
    "import pymysql\n",
    "connection = pymysql.connect(host='localhost',\n",
    "                             user='root',\n",
    "                             password='',\n",
    "                             db='test_ocw',\n",
    "                             charset='utf8',\n",
    "                             # Selectの結果をdictionary形式で受け取る\n",
    "                             cursorclass=pymysql.cursors.DictCursor)"
   ]
  },
  {
   "cell_type": "code",
   "execution_count": 12,
   "metadata": {},
   "outputs": [],
   "source": [
    "with connection.cursor() as cursor:\n",
    "    sql = \"\"\"CREATE TABLE `L` (\n",
    "    `CODE` CHAR(10) NOT NULL,\n",
    "    `lecture name` TEXT NOT NULL,\n",
    "    `professor` TEXT NOT NULL,\n",
    "    PRIMARY KEY (`CODE`));\"\"\"\n",
    "    cursor.execute(sql)"
   ]
  },
  {
   "cell_type": "code",
   "execution_count": 15,
   "metadata": {},
   "outputs": [
    {
     "name": "stdout",
     "output_type": "stream",
     "text": [
      "{'CODE': '111111', 'lecture name': 'おもろい授業', 'professor': 'おもろい生活'}\n"
     ]
    }
   ],
   "source": [
    "#SELECT文を実行してデータを見る\n",
    "with connection.cursor() as cursor:\n",
    "    sql = \"SELECT * FROM L\"\n",
    "    cursor.execute(sql)\n",
    " \n",
    "    dbdata = cursor.fetchall()\n",
    "    for rows in dbdata:\n",
    "        print(rows)"
   ]
  },
  {
   "cell_type": "code",
   "execution_count": 16,
   "metadata": {},
   "outputs": [
    {
     "name": "stdout",
     "output_type": "stream",
     "text": [
      "{'CODE': '111111', 'lecture name': 'おもろい授業', 'professor': 'おもろい生活'}\n",
      "{'CODE': '999999', 'lecture name': 'すばらしい授業', 'professor': 'すばらしい生活'}\n"
     ]
    }
   ],
   "source": [
    "#INSERT文を実行してデータを追加し，再びSELECT文の実行して確認する\n",
    "with connection.cursor() as cursor:\n",
    "    sql = \"\"\"INSERT INTO `L`\n",
    "    (`CODE`, `lecture name`, `professor`) VALUES \n",
    "    ('999999','すばらしい授業','すばらしい生活')\"\"\"\n",
    "    cursor.execute(sql)\n",
    "    \n",
    "    sql = \"SELECT * FROM L\"\n",
    "    cursor.execute(sql)\n",
    " \n",
    "    dbdata = cursor.fetchall()\n",
    "    for rows in dbdata:\n",
    "        print(rows)"
   ]
  },
  {
   "cell_type": "code",
   "execution_count": 17,
   "metadata": {},
   "outputs": [],
   "source": [
    "#変更の保存\n",
    "connection.commit()"
   ]
  },
  {
   "cell_type": "code",
   "execution_count": 18,
   "metadata": {},
   "outputs": [
    {
     "name": "stdout",
     "output_type": "stream",
     "text": [
      "`CODE` value?>893\n",
      "`lecture name` value?>過激な授業\n",
      "`professor` value?>過激な生活\n",
      "{'CODE': '111111', 'lecture name': 'おもろい授業', 'professor': 'おもろい生活'}\n",
      "{'CODE': '893', 'lecture name': '過激な授業', 'professor': '過激な生活'}\n",
      "{'CODE': '999999', 'lecture name': 'すばらしい授業', 'professor': 'すばらしい生活'}\n"
     ]
    }
   ],
   "source": [
    "#お　ま　け\n",
    "#「SQL文を動的にかきたい！」\n",
    "#対話形式でテーブルにデータを入れるスクリプト\n",
    "\n",
    "TABLE_NAME = \"L\"\n",
    "\n",
    "#VALUE_TAPLE,KEY_TAPLEの作成\n",
    "with connection.cursor() as cursor:\n",
    "    keys,values = [],[]\n",
    "    #show columns実行\n",
    "    sql = \"show columns from {}\".format(TABLE_NAME)\n",
    "    cursor.execute(sql)\n",
    "    \n",
    "    for rows in cursor.fetchall():\n",
    "        k = rows[\"Field\"]\n",
    "        keys.append(k)\n",
    "        #####入力#####\n",
    "        print(\"`{}` value?\".format(k),end=\">\")\n",
    "        values.append(input())\n",
    "        #############\n",
    "        \n",
    "    VALUE_TAPLE = \"({})\".format(\",\".join([\"\\\"{}\\\"\".format(v) for v in values]))\n",
    "    KEY_TAPLE = \"({})\".format(\",\".join([\"`{}`\".format(k) for k in keys]))\n",
    "\n",
    "#INSERTしてINSERT後のテーブルを閲覧\n",
    "with connection.cursor() as cursor:\n",
    "    #INSERT実行\n",
    "    sql = \"INSERT INTO {} {} VALUES {}\"\\\n",
    "        .format(TABLE_NAME,KEY_TAPLE,VALUE_TAPLE)\n",
    "    cursor.execute(sql)\n",
    "    \n",
    "    #SELECT実行\n",
    "    sql = \"SELECT * FROM {}\".format(TABLE_NAME)\n",
    "    cursor.execute(sql)\n",
    " \n",
    "    dbdata = cursor.fetchall()\n",
    "    for rows in dbdata:\n",
    "        print(rows)"
   ]
  },
  {
   "cell_type": "code",
   "execution_count": null,
   "metadata": {},
   "outputs": [],
   "source": []
  }
 ],
 "metadata": {
  "kernelspec": {
   "display_name": "Python 3",
   "language": "python",
   "name": "python3"
  },
  "language_info": {
   "codemirror_mode": {
    "name": "ipython",
    "version": 3
   },
   "file_extension": ".py",
   "mimetype": "text/x-python",
   "name": "python",
   "nbconvert_exporter": "python",
   "pygments_lexer": "ipython3",
   "version": "3.6.4"
  }
 },
 "nbformat": 4,
 "nbformat_minor": 2
}
